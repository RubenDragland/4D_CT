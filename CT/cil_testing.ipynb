{
 "cells": [
  {
   "cell_type": "code",
   "execution_count": 262,
   "metadata": {},
   "outputs": [],
   "source": [
    "import sys, os\n",
    "import numpy as np\n",
    "import h5py\n",
    "# from cil.io import TIFFSTackWriter, TIFFStackReader\n",
    "import cil\n",
    "\n",
    "from pathlib import Path\n",
    "import matplotlib.pyplot as plt\n",
    "import tigre\n",
    "import scipy.ndimage as nd\n",
    "from PIL import Image\n",
    "import os\n",
    "from pathlib import Path\n",
    "import preprocessing as pre\n",
    "\n",
    "%reload_ext autoreload\n",
    "%autoreload 2"
   ]
  },
  {
   "cell_type": "code",
   "execution_count": 263,
   "metadata": {},
   "outputs": [
    {
     "name": "stdout",
     "output_type": "stream",
     "text": [
      "TIGRE parameters\n",
      "-----\n",
      "Geometry parameters\n",
      "Distance from source to detector (DSD) = 1536.0 mm\n",
      "Distance from source to origin (DSO)= 1000.0 mm\n",
      "-----\n",
      "Detector parameters\n",
      "Number of pixels (nDetector) = [512 512]\n",
      "Size of each pixel (dDetector) = [0.8 0.8] mm\n",
      "Total size of the detector (sDetector) = [409.6 409.6] mm\n",
      "-----\n",
      "Image parameters\n",
      "Number of voxels (nVoxel) = [512 512 512]\n",
      "Total size of the image (sVoxel) = [256 256 256] mm\n",
      "Size of each voxel (dVoxel) = [0.5 0.5 0.5] mm\n",
      "-----\n",
      "Offset correction parameters\n",
      "Offset of image from origin (offOrigin) = [0 0 0] mm\n",
      "Offset of detector (offDetector) = [0 0] mm\n",
      "-----\n",
      "Auxillary parameters\n",
      "Samples per pixel of forward projection (accuracy) = 0.5\n"
     ]
    }
   ],
   "source": [
    "geo = tigre.geometry_default()\n",
    "print(geo)"
   ]
  },
  {
   "cell_type": "code",
   "execution_count": 264,
   "metadata": {},
   "outputs": [],
   "source": [
    "golden_geometry = tigre.geometry(mode=\"cone\", default=True)\n",
    "\n",
    "golden_geometry.DSD = 1350  # Distance Source Detector (mm)\n",
    "golden_geometry.DSO = 930  # Distance Source Origin (mm)\n",
    "\n",
    "golden_geometry.nDetector = np.array([2048, 2048])  # number of pixels (px)\n",
    "golden_geometry.dDetector = np.array([0.2, 0.2])  # size of each pixel (mm)\n",
    "golden_geometry.sDetector = (\n",
    "    golden_geometry.dDetector * golden_geometry.nDetector\n",
    ")  # total size of the detector (mm)\n",
    "\n",
    "golden_geometry.nVoxel = np.repeat(golden_geometry.nDetector[0], 3)  # number of voxels\n",
    "golden_geometry.dVoxel = np.repeat(\n",
    "    golden_geometry.dDetector[0], 3\n",
    ")  # size of each voxel\n",
    "golden_geometry.sVoxel = (\n",
    "    golden_geometry.dVoxel * golden_geometry.nVoxel\n",
    ")  # total size of the image\n",
    "\n",
    "golden_geometry.offOrigin = np.array([0, 0, 0])  # Offset of image from origin (mm)\n",
    "golden_geometry.offDetector = np.array([0, 0])  # Offset of Detector\n",
    "\n",
    "golden_geometry.accuracy = 0.5  # Accuracy of FWD proj    (vx/sample)\n",
    "\n",
    "golden_geometry.COR = 0\n",
    "\n",
    "golden_geometry.rotDetector = np.array([270/180 * np.pi, 0, 0])  # Rotation of detector"
   ]
  },
  {
   "cell_type": "code",
   "execution_count": 265,
   "metadata": {},
   "outputs": [],
   "source": [
    "root = r\"C:\\Users\\Bruker\\OneDrive\\Dokumenter\\NTNU\\4D_CT\\Data sets\\GoldenPreTest\"\n",
    "exp_name = \"test_timeglass_130223_GoldenAngle-radio_\"\n",
    "number_of_projections = 2\n",
    "geometry = golden_geometry\n",
    "metallic_mean_n = 1\n",
    "rotation = 270"
   ]
  },
  {
   "cell_type": "code",
   "execution_count": 266,
   "metadata": {},
   "outputs": [],
   "source": [
    "eq_golden_projections = pre.ProjectionsEQNR(\n",
    "    root,\n",
    "    exp_name,\n",
    "    number_of_projections,\n",
    "    correction_parent=root,\n",
    "    geometry=golden_geometry,\n",
    "    metallic_mean_n=metallic_mean_n,\n",
    "    rotation=rotation,\n",
    "    roi=(1024, 1024),\n",
    ")"
   ]
  },
  {
   "cell_type": "code",
   "execution_count": null,
   "metadata": {},
   "outputs": [],
   "source": [
    "eq_golden_projections()"
   ]
  },
  {
   "cell_type": "code",
   "execution_count": 267,
   "metadata": {},
   "outputs": [
    {
     "name": "stdout",
     "output_type": "stream",
     "text": [
      "[[1062   11    1]\n",
      " [ 601   12    1]\n",
      " [ 602   12    1]\n",
      " ...\n",
      " [ 707 2032    1]\n",
      " [ 707 2034    1]\n",
      " [ 707 2036    1]]\n",
      "(7518, 3)\n"
     ]
    }
   ],
   "source": [
    "with open(r\"C:\\Users\\Bruker\\OneDrive\\Dokumenter\\NTNU\\4D_CT\\Data sets\\GoldenPreTest\\defective_pixels.defect\", \"r\") as f:\n",
    "    defective_pixels = f.readlines()[6:-2]\n",
    "    # print(defective_pixels)\n",
    "\n",
    "import pandas as pd\n",
    "\n",
    "panda = pd.read_csv(r\"C:\\Users\\Bruker\\OneDrive\\Dokumenter\\NTNU\\4D_CT\\Data sets\\GoldenPreTest\\defective_pixels.defect\", skiprows=6, skipfooter=2, engine=\"python\", dtype = int, sep=\" \")\n",
    "\n",
    "# print(panda)\n",
    "\n",
    "panda_arr = np.array(panda)\n",
    "print(panda_arr)\n",
    "print(panda_arr.shape)"
   ]
  },
  {
   "cell_type": "code",
   "execution_count": null,
   "metadata": {},
   "outputs": [],
   "source": []
  }
 ],
 "metadata": {
  "kernelspec": {
   "display_name": "CIL",
   "language": "python",
   "name": "python3"
  },
  "language_info": {
   "codemirror_mode": {
    "name": "ipython",
    "version": 3
   },
   "file_extension": ".py",
   "mimetype": "text/x-python",
   "name": "python",
   "nbconvert_exporter": "python",
   "pygments_lexer": "ipython3",
   "version": "3.8.16"
  },
  "orig_nbformat": 4,
  "vscode": {
   "interpreter": {
    "hash": "030accc52706ba23f7fe156dd0c1b3f93e9dd6b09c8e6abd5c81941642aca7ea"
   }
  }
 },
 "nbformat": 4,
 "nbformat_minor": 2
}
