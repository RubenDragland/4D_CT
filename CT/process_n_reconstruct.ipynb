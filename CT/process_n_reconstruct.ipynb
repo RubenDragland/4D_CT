{
 "cells": [
  {
   "cell_type": "code",
   "execution_count": 2,
   "metadata": {},
   "outputs": [],
   "source": [
    "import tqdm\n",
    "from preprocessing import *\n",
    "import tigre.algorithms as algs\n",
    "import tigre.utilities.gpu as gpu\n",
    "import os"
   ]
  },
  {
   "cell_type": "code",
   "execution_count": 3,
   "metadata": {},
   "outputs": [],
   "source": [
    "root = r\"F:\\RawProjections\\KRT20230315_samplingV3_hourglass\"\n",
    "expname = r\"hourglassV3_25\"\n",
    "oroot = r\"F:\\ProcessedProjections\"\n",
    "numProj = 25\n",
    "nrevs = 75\n",
    "correction =None\n",
    "geometry = fr\"{os.path.join(root, 'hourglass_step0.nsiprg')}\"\n",
    "roi = [1024,700]\n",
    "rot = 0"
   ]
  },
  {
   "cell_type": "code",
   "execution_count": 4,
   "metadata": {},
   "outputs": [
    {
     "name": "stdout",
     "output_type": "stream",
     "text": [
      "F:\\RawProjections\\KRT20230315_samplingV3_hourglass\\hourglass_step0.nsiprg\n",
      "Rotation: 270.0\n"
     ]
    }
   ],
   "source": [
    "preprocess = DynamicProjectionsEQNR(\n",
    "        root,\n",
    "        expname,\n",
    "        oroot,\n",
    "        # args.oname,\n",
    "        numProj,\n",
    "        nrevs=nrevs,\n",
    "        correction_parent=correction,\n",
    "        geometry=geometry,\n",
    "        roi=roi,\n",
    "        rotation=rot,\n",
    "    )"
   ]
  },
  {
   "cell_type": "code",
   "execution_count": null,
   "metadata": {},
   "outputs": [],
   "source": [
    "cor = preprocess.find_centre_rotation()\n",
    "print(cor)"
   ]
  }
 ],
 "metadata": {
  "kernelspec": {
   "display_name": "CT",
   "language": "python",
   "name": "python3"
  },
  "language_info": {
   "codemirror_mode": {
    "name": "ipython",
    "version": 3
   },
   "file_extension": ".py",
   "mimetype": "text/x-python",
   "name": "python",
   "nbconvert_exporter": "python",
   "pygments_lexer": "ipython3",
   "version": "3.8.10"
  },
  "orig_nbformat": 4
 },
 "nbformat": 4,
 "nbformat_minor": 2
}
