{
 "cells": [
  {
   "cell_type": "code",
   "execution_count": 1,
   "metadata": {},
   "outputs": [
    {
     "name": "stderr",
     "output_type": "stream",
     "text": [
      "c:\\Users\\Bruker\\anaconda3\\envs\\4D_CT\\lib\\site-packages\\tqdm\\auto.py:22: TqdmWarning: IProgress not found. Please update jupyter and ipywidgets. See https://ipywidgets.readthedocs.io/en/stable/user_install.html\n",
      "  from .autonotebook import tqdm as notebook_tqdm\n"
     ]
    }
   ],
   "source": [
    "import numpy as np\n",
    "import matplotlib.pyplot as plt\n",
    "from matplotlib.gridspec import GridSpec\n",
    "import sys\n",
    "sys.path.append(r\"C:\\Users\\Bruker\\OneDrive\\Dokumenter\\NTNU\\4D_CT\\Plotting\")\n",
    "sys.path.append(r\"C:\\Users\\Bruker\\OneDrive\\Dokumenter\\NTNU\\4D_CT\\CT\")\n",
    "sys.path.append(r\"C:\\Users\\Bruker\\OneDrive\\Dokumenter\\NTNU\\4D_CT\\3DTomoGAN\")\n",
    "from plots import *\n",
    "import os\n",
    "import utils\n",
    "import h5py\n",
    "from scipy.optimize import curve_fit\n",
    "from PIL import Image\n",
    "\n",
    "import scipy.ndimage as nd\n",
    "\n",
    "from mpl_toolkits.axes_grid1.anchored_artists import AnchoredSizeBar\n",
    "import matplotlib.patheffects as PathEffects\n",
    "\n",
    "%matplotlib inline\n",
    "\n",
    "%reload_ext autoreload\n",
    "%autoreload 2"
   ]
  },
  {
   "cell_type": "code",
   "execution_count": 2,
   "metadata": {},
   "outputs": [],
   "source": [
    "root = r\"C:\\Users\\Bruker\\Documents\\4DCT\"\n",
    "choose_formatter(False)"
   ]
  },
  {
   "cell_type": "code",
   "execution_count": null,
   "metadata": {},
   "outputs": [],
   "source": [
    "x1, x2 = 218, 666\n",
    "y1, y2 = 124, 388\n",
    "z1, z2 = 124, 388\n",
    "\n",
    "slice = [[x1, x2], [y1, y2], [z1, z2]]\n",
    "\n",
    "names = [\n",
    "    \"hourglassV3_13_55_2bin\",\n",
    "]\n",
    "\n",
    "crossections = {\n",
    "    # \"favg6\":  {\"name\": names[0] },\n",
    "    # \"favg12\": { \"name\": names[1]},\n",
    "    # \"favg24\": {\"name\": names[2]},\n",
    "}\n",
    "\n",
    "identifiers = [\n",
    "    \"gt\",\n",
    "    \"Rec_0_1_fdk\",\n",
    "    \"Rec_0_1_fdk_enhanced_800512512\",\n",
    "]\n",
    "keys = [\n",
    "    \"gt\",\n",
    "    \"13\",\n",
    "    \"13_enhanced\",\n",
    "]\n",
    "\n",
    "# for k, v in crossections.items():\n",
    "for j,(id,key) in enumerate(zip(identifiers, keys)):\n",
    "\n",
    "    if key.endswith(\"enhanced\"):\n",
    "        x1, x2 = 0,256\n",
    "        y1, y2 = 0,256\n",
    "        z1, z2 = 0,256\n",
    "    else:\n",
    "        x1, x2 = 218, 666\n",
    "        y1, y2 = 124, 388\n",
    "        z1, z2 = 124, 388\n",
    "\n",
    "    load_name = f\"{names[0]}_{identifiers[j]}_{x1}_{x2}_{y1}_{y2}_{z1}_{z2}.npy\"\n",
    "    load_path = os.path.join(root, load_name)\n",
    "    crossections[key]= np.squeeze(np.load(load_path))"
   ]
  }
 ],
 "metadata": {
  "kernelspec": {
   "display_name": "4D_CT",
   "language": "python",
   "name": "python3"
  },
  "language_info": {
   "codemirror_mode": {
    "name": "ipython",
    "version": 3
   },
   "file_extension": ".py",
   "mimetype": "text/x-python",
   "name": "python",
   "nbconvert_exporter": "python",
   "pygments_lexer": "ipython3",
   "version": "3.10.9"
  },
  "orig_nbformat": 4
 },
 "nbformat": 4,
 "nbformat_minor": 2
}
